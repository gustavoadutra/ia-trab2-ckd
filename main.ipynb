{
 "cells": [
  {
   "cell_type": "markdown",
   "id": "bd35bdd6",
   "metadata": {},
   "source": [
    "# 0 - Importar bibliotecas necessárias:"
   ]
  },
  {
   "cell_type": "markdown",
   "id": "8d26cf61",
   "metadata": {},
   "source": [
    "# 1 - Análise Exploratória de Dados:\n",
    "Realizar análise estatística dos atributos (médias, desvios, valores faltantes, etc.). Gerar visualizações (gráficos de dispersão, histogramas, correlações) que ajudem na compreensão dos dados."
   ]
  },
  {
   "cell_type": "markdown",
   "id": "e9704a46",
   "metadata": {},
   "source": [
    "\n",
    "# 2 - Pré-processamento: \n",
    "Tratar valores faltantes. Normalizar ou padronizar atributos quando necessário. Separar o conjunto de dados (sugestão: 70% treino, 15% teste, 15% validação)."
   ]
  },
  {
   "cell_type": "markdown",
   "id": "cddfda18",
   "metadata": {},
   "source": [
    "# 3 - Implementar três modelos de classificação:\n",
    "Árvores de Decisão, Redes Neurais Artificiais (MLP), e outra técnica de aprendizado de máquina escolhida pela grupo do trabalho (entre as técnicas estudadas na disciplina)"
   ]
  },
  {
   "cell_type": "markdown",
   "id": "85210318",
   "metadata": {},
   "source": [
    "# 4 - Avaliação dos Modelos:\n",
    "Avaliar e comparar o desempenho dos modelos com as seguintes métricas: Acurácia, Precisão, Revocação (Recall), F1-Score, Matriz de Confusão e Área sob a curva ROC (AUC), se aplicável. Comentar sobre os casos de falso positivo e falso negativo, e suas implicações na área da saúde."
   ]
  },
  {
   "cell_type": "markdown",
   "id": "e0dc2240",
   "metadata": {},
   "source": [
    "# 5 - Discussão e Conclusões:\n",
    "Comparar os resultados obtidos entre os\n",
    "modelos. Discutir qual técnica apresentou melhor desempenho e por quê. Apontar\n",
    "limitações do estudo e possíveis melhorias."
   ]
  },
  {
   "cell_type": "markdown",
   "id": "d743222d",
   "metadata": {},
   "source": []
  }
 ],
 "metadata": {
  "kernelspec": {
   "display_name": "myenv",
   "language": "python",
   "name": "python3"
  },
  "language_info": {
   "name": "python",
   "version": "3.10.16"
  }
 },
 "nbformat": 4,
 "nbformat_minor": 5
}

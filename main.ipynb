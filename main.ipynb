{
 "cells": [
  {
   "cell_type": "markdown",
   "id": "bd35bdd6",
   "metadata": {},
   "source": [
    "# 0 - Importar bibliotecas necessárias:"
   ]
  },
  {
   "cell_type": "markdown",
   "id": "8d26cf61",
   "metadata": {},
   "source": [
    "# 1 - Análise Exploratória de Dados:\n",
    "Realizar análise estatística dos atributos (médias, desvios, valores faltantes, etc.). Gerar visualizações (gráficos de dispersão, histogramas, correlações) que ajudem na compreensão dos dados."
   ]
  },
  {
   "cell_type": "markdown",
   "id": "0ebe266d",
   "metadata": {},
   "source": [
    "| Variável                   | Descrição                                                                                   |\n",
    "|----------------------------|---------------------------------------------------------------------------------------------|\n",
    "| gender                     | Sexo biológico do paciente (1: masculino, 2: feminino)                                      |\n",
    "| etiology of CKD            | Etiologia da doença renal crônica                                                           |\n",
    "| CKD_stage                  | Estágio da doença renal crônica no início do estudo                                         |\n",
    "| urinary occult blood       | Presença de sangue oculto na urina                                                          |\n",
    "| UPCR category              | Categoria do índice proteína/creatinina urinária                                            |\n",
    "| hypertension               | Diagnóstico de hipertensão arterial                                                         |\n",
    "| prevalence of CVD          | Presença prévia de doença cardiovascular                                                    |\n",
    "| diabetes                   | Diagnóstico prévio de diabetes mellitus                                                     |\n",
    "| use of RAASi               | Uso de inibidores do sistema renina-angiotensina                                            |\n",
    "| use of CCB                 | Uso de bloqueadores de canal de cálcio                                                      |\n",
    "| use of diuretics           | Uso de diuréticos                                                                           |\n",
    "| age_cat                    | Idade                                                                                       |\n",
    "| SBP_cat                    | Pressão arterial sistólica                                                                  |\n",
    "| BMI_cat                    | Índice de massa corporal                                                                    |\n",
    "| Hb_cat                     | Hemoglobina                                                                                 |\n",
    "| Alb_cat                    | Albumina sérica                                                                             |\n",
    "| Cr_cat                     | Creatinina sérica                                                                           |\n",
    "| UPCR_cat                   | Índice proteína/creatinina urinária                                                         |\n",
    "| CKD progression            | Variável-alvo: progressão da doença renal crônica (0: não, 1: sim)                         |"
   ]
  },
  {
   "cell_type": "markdown",
   "id": "e9704a46",
   "metadata": {},
   "source": [
    "\n",
    "# 2 - Pré-processamento: \n",
    "Tratar valores faltantes. Normalizar ou padronizar atributos quando necessário. Separar o conjunto de dados (sugestão: 70% treino, 15% teste, 15% validação)."
   ]
  },
  {
   "cell_type": "markdown",
   "id": "cddfda18",
   "metadata": {},
   "source": [
    "# 3 - Implementar três modelos de classificação:\n",
    "Árvores de Decisão, Redes Neurais Artificiais (MLP), e outra técnica de aprendizado de máquina escolhida pela grupo do trabalho (entre as técnicas estudadas na disciplina)"
   ]
  },
  {
   "cell_type": "markdown",
   "id": "85210318",
   "metadata": {},
   "source": [
    "# 4 - Avaliação dos Modelos:\n",
    "Avaliar e comparar o desempenho dos modelos com as seguintes métricas: Acurácia, Precisão, Revocação (Recall), F1-Score, Matriz de Confusão e Área sob a curva ROC (AUC), se aplicável. Comentar sobre os casos de falso positivo e falso negativo, e suas implicações na área da saúde."
   ]
  },
  {
   "cell_type": "markdown",
   "id": "e0dc2240",
   "metadata": {},
   "source": [
    "# 5 - Discussão e Conclusões:\n",
    "Comparar os resultados obtidos entre os\n",
    "modelos. Discutir qual técnica apresentou melhor desempenho e por quê. Apontar\n",
    "limitações do estudo e possíveis melhorias."
   ]
  },
  {
   "cell_type": "markdown",
   "id": "d743222d",
   "metadata": {},
   "source": []
  }
 ],
 "metadata": {
  "kernelspec": {
   "display_name": "myenv",
   "language": "python",
   "name": "python3"
  },
  "language_info": {
   "name": "python",
   "version": "3.10.16"
  }
 },
 "nbformat": 4,
 "nbformat_minor": 5
}
